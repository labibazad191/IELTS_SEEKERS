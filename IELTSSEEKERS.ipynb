{
  "nbformat": 4,
  "nbformat_minor": 0,
  "metadata": {
    "colab": {
      "provenance": [],
      "mount_file_id": "https://github.com/labibazad191/IELTS_SEEKERS/blob/main/IELTSSEEKERS.ipynb",
      "authorship_tag": "ABX9TyMHvP/tDGwPIG7QXX1SoebU",
      "include_colab_link": true
    },
    "kernelspec": {
      "name": "python3",
      "display_name": "Python 3"
    },
    "language_info": {
      "name": "python"
    }
  },
  "cells": [
    {
      "cell_type": "markdown",
      "metadata": {
        "id": "view-in-github",
        "colab_type": "text"
      },
      "source": [
        "<a href=\"https://colab.research.google.com/github/labibazad191/IELTS_SEEKERS/blob/main/IELTSSEEKERS.ipynb\" target=\"_parent\"><img src=\"https://colab.research.google.com/assets/colab-badge.svg\" alt=\"Open In Colab\"/></a>"
      ]
    },
    {
      "cell_type": "markdown",
      "source": [],
      "metadata": {
        "id": "8eBkJc3PQh0j"
      }
    },
    {
      "cell_type": "code",
      "source": [
        "# Step 1\n",
        "import pandas as pd\n",
        "import matplotlib.pyplot as plt\n",
        "import seaborn as sns\n",
        "from sklearn.metrics import accuracy_score\n",
        "\n",
        "\n",
        "from sklearn.metrics import confusion_matrix\n",
        "\n",
        "from sklearn.svm import SVC, SVR\n",
        "from sklearn.pipeline import Pipeline\n",
        "from sklearn.preprocessing import LabelEncoder\n",
        "from sklearn.metrics import classification_report, mean_squared_error, accuracy_score\n",
        "from sklearn.model_selection import train_test_split, GridSearchCV, cross_val_score\n",
        "from sklearn.multiclass import OneVsRestClassifier\n",
        "from sklearn.preprocessing import label_binarize\n",
        "from sklearn.metrics import roc_curve, auc\n",
        "from sklearn.model_selection import learning_curve\n",
        "\n",
        "\n",
        "from sklearn.feature_extraction.text import TfidfVectorizer\n",
        "\n",
        "import joblib"
      ],
      "metadata": {
        "id": "2dDSbFBGNyXR"
      },
      "execution_count": 13,
      "outputs": []
    },
    {
      "cell_type": "markdown",
      "source": [],
      "metadata": {
        "id": "kx32k8yKQPc7"
      }
    },
    {
      "cell_type": "code",
      "execution_count": 14,
      "metadata": {
        "id": "osF9uEptC0We"
      },
      "outputs": [],
      "source": [
        "# Step 2: Load datasets\n",
        "ielts_df = pd.read_csv('/content/ielts_writing_dataset.csv')\n",
        "coherence_df = pd.read_csv('/content/Coherence_and_Cohesion.csv')\n",
        "grammatical_range_df = pd.read_csv('/content/Grammatical_Range.csv')\n",
        "lexical_resource_df = pd.read_csv('/content/Lexical_Resource.csv')\n",
        "\n",
        "\n",
        "\n",
        "\n"
      ]
    },
    {
      "cell_type": "code",
      "source": [
        "# Step 3: Data Preprocessing and Feature Engineering\n",
        "# For classification tasks, create a 'question' + 'answer' feature and encode the target variables\n",
        "\n",
        "def preprocess_data(df, target_column):\n",
        "    X = df['question'] + ' ' + df['answer']\n",
        "    y = df[target_column]\n",
        "\n",
        "    # If y is a classification target, apply LabelEncoder\n",
        "    label_encoder = LabelEncoder()\n",
        "    y_encoded = label_encoder.fit_transform(y)\n",
        "    return X, y_encoded\n",
        "\n",
        "# Example: For classification in \"Coherence_and_Cohesion.csv\" using 'Include_an_introduction_and_conclusion' column\n",
        "X, y = preprocess_data(coherence_df, 'Include_an_introduction_and_conclusion')\n",
        "\n",
        "# Split data into train and test\n",
        "X_train, X_test, y_train, y_test = train_test_split(X, y, test_size=0.2, random_state=42)"
      ],
      "metadata": {
        "id": "X9UL5exmPIE6"
      },
      "execution_count": 15,
      "outputs": []
    },
    {
      "cell_type": "code",
      "source": [
        "# Step 4: Set up pipeline and grid search for classification model\n",
        "svm_pipeline = Pipeline([\n",
        "    ('tfidf', TfidfVectorizer(max_features=5000, stop_words='english')),\n",
        "    ('svm', SVC())\n",
        "])\n",
        "\n",
        "param_grid = {\n",
        "    'tfidf__max_features': [5000, 10000, None],\n",
        "    'tfidf__ngram_range': [(1, 1), (1, 2)],\n",
        "    'svm__C': [0.1, 1, 10],\n",
        "    'svm__kernel': ['rbf'],\n",
        "    'svm__gamma': [0.1, 1, 'auto']\n",
        "}\n",
        "\n",
        "# Step 5: Perform GridSearchCV\n",
        "grid_search = GridSearchCV(svm_pipeline, param_grid, cv=5, n_jobs=-1)\n",
        "grid_search.fit(X_train, y_train)\n",
        "\n",
        "# Step 6: Print Best Parameters and Predictions\n",
        "print(\"Best parameters found:\", grid_search.best_params_)\n",
        "\n",
        "# Predictions and evaluation\n",
        "y_pred = grid_search.predict(X_test)\n",
        "print(\"Classification Report:\")\n",
        "print(classification_report(y_test, y_pred))\n",
        "\n",
        "# Visualize the confusion matrix\n",
        "from sklearn.metrics import confusion_matrix\n",
        "conf_matrix = confusion_matrix(y_test, y_pred)\n",
        "plt.figure(figsize=(6, 6))\n",
        "sns.heatmap(conf_matrix, annot=True, fmt='d', cmap='Blues', xticklabels=['No', 'Yes'], yticklabels=['No', 'Yes'])\n",
        "plt.title('Confusion Matrix')\n",
        "plt.xlabel('Predicted')\n",
        "plt.ylabel('True')\n",
        "plt.show()\n",
        "\n",
        "\n",
        "\n",
        "\n",
        "# Accuracy score\n",
        "accuracy = accuracy_score(y_test, y_pred)\n",
        "print(\"Accuracy:\", accuracy)\n",
        "\n",
        "# Save the best model\n",
        "best_model = grid_search.best_estimator_\n",
        "joblib.dump(best_model, 'svm_model_coherence_and_cohesion.pkl')"
      ],
      "metadata": {
        "colab": {
          "base_uri": "https://localhost:8080/",
          "height": 804
        },
        "id": "TFAx7oVDPNhz",
        "outputId": "f8388fb0-db44-4260-a380-db85e70c9d3e"
      },
      "execution_count": 16,
      "outputs": [
        {
          "output_type": "stream",
          "name": "stdout",
          "text": [
            "Best parameters found: {'svm__C': 10, 'svm__gamma': 0.1, 'svm__kernel': 'rbf', 'tfidf__max_features': None, 'tfidf__ngram_range': (1, 2)}\n",
            "Classification Report:\n",
            "              precision    recall  f1-score   support\n",
            "\n",
            "           0       0.71      0.30      0.43        33\n",
            "           1       0.59      0.89      0.71        37\n",
            "\n",
            "    accuracy                           0.61        70\n",
            "   macro avg       0.65      0.60      0.57        70\n",
            "weighted avg       0.65      0.61      0.58        70\n",
            "\n"
          ]
        },
        {
          "output_type": "display_data",
          "data": {
            "text/plain": [
              "<Figure size 600x600 with 2 Axes>"
            ],
            "image/png": "[encoded data removed]"
          },
          "metadata": {}
        },
        {
          "output_type": "stream",
          "name": "stdout",
          "text": [
            "Accuracy: 0.6142857142857143\n"
          ]
        },
        {
          "output_type": "execute_result",
          "data": {
            "text/plain": [
              "['svm_model_coherence_and_cohesion.pkl']"
            ]
          },
          "metadata": {},
          "execution_count": 16
        }
      ]
    },
    {
      "cell_type": "code",
      "source": [
        "# Make predictions on the test set\n",
        "predictions = grid_search.predict(X_test)\n"
      ],
      "metadata": {
        "id": "DSBzwRNiRmqk"
      },
      "execution_count": 17,
      "outputs": []
    },
    {
      "cell_type": "code",
      "source": [
        "# 1. Predict\n",
        "predictions = grid_search.predict(X_test)"
      ],
      "metadata": {
        "id": "9mznbTM6Rn5k"
      },
      "execution_count": 18,
      "outputs": []
    },
    {
      "cell_type": "code",
      "source": [
        "from sklearn.svm import SVC\n",
        "\n",
        "svm_pipeline = Pipeline([\n",
        "    ('tfidf', TfidfVectorizer(max_features=5000, stop_words='english')),\n",
        "    ('svm', SVC(probability=True))  # enables ROC later\n",
        "])\n",
        "\n",
        "# Train and predict\n",
        "grid_search = GridSearchCV(svm_pipeline, param_grid, cv=5, n_jobs=-1)\n",
        "grid_search.fit(X_train, y_train)\n",
        "predictions = grid_search.predict(X_test)\n"
      ],
      "metadata": {
        "id": "upaqtPkySPzO"
      },
      "execution_count": 19,
      "outputs": []
    },
    {
      "cell_type": "code",
      "source": [
        "# Make sure model is already trained with grid_search.fit()\n",
        "\n",
        "# 1. Predict\n",
        "predictions = grid_search.predict(X_test)\n",
        "\n",
        "cm = confusion_matrix(y_test, predictions)\n",
        "\n",
        "plt.figure(figsize=(7, 5))\n",
        "sns.heatmap(cm, annot=True, fmt='d', cmap='Blues', xticklabels=['No', 'Yes'], yticklabels=['No', 'Yes'])\n",
        "plt.title('Confusion Matrix')\n",
        "plt.xlabel('Predicted')\n",
        "plt.ylabel('True')\n",
        "plt.show()\n"
      ],
      "metadata": {
        "colab": {
          "base_uri": "https://localhost:8080/",
          "height": 487
        },
        "id": "wOlLciCgRX8m",
        "outputId": "3d2209a1-0705-40f5-e0e4-fbdf6cfc5ef5"
      },
      "execution_count": 20,
      "outputs": [
        {
          "output_type": "display_data",
          "data": {
            "text/plain": [
              "<Figure size 700x500 with 2 Axes>"
            ],
            "image/png": "[encoded data removed]"
          },
          "metadata": {}
        }
      ]
    },
    {
      "cell_type": "code",
      "source": [
        "# Step 7: Repeat for other datasets (Grammatical Range, Lexical Resource, etc.)\n",
        "\n",
        "# For \"Grammatical Range\" dataset\n",
        "X, y = preprocess_data(grammatical_range_df, 'Use_a_variety_of_complex_and_simple_sentences')\n",
        "X_train, X_test, y_train, y_test = train_test_split(X, y, test_size=0.2, random_state=42)\n",
        "grid_search.fit(X_train, y_train)\n",
        "y_pred = grid_search.predict(X_test)\n",
        "print(\"Classification Report for Grammatical Range:\")\n",
        "print(classification_report(y_test, y_pred))\n",
        "\n",
        "# Visualizing results for Grammatical Range\n",
        "accuracy = accuracy_score(y_test, y_pred)\n",
        "print(\"Accuracy for Grammatical Range:\", accuracy)\n",
        "\n",
        "# Save the Grammatical Range model\n",
        "joblib.dump(grid_search.best_estimator_, 'svm_model_grammatical_range.pkl')\n"
      ],
      "metadata": {
        "id": "bYI126jXPaBD"
      },
      "execution_count": null,
      "outputs": []
    },
    {
      "cell_type": "code",
      "source": [
        "\n",
        "\n",
        "# Step 8: For Regression Task (e.g., Lexical Resource Score prediction)\n",
        "X, y = preprocess_data(lexical_resource_df, 'score')\n",
        "X_train, X_test, y_train, y_test = train_test_split(X, y, test_size=0.2, random_state=42)\n",
        "\n",
        "# Use SVR for regression\n",
        "svm_pipeline = Pipeline([\n",
        "    ('tfidf', TfidfVectorizer(max_features=5000, stop_words='english')),\n",
        "    ('svm', SVR())\n",
        "])\n",
        "\n",
        "param_grid = {\n",
        "    'tfidf__max_features': [5000, 10000, None],\n",
        "    'tfidf__ngram_range': [(1, 1), (1, 2)],\n",
        "    'svm__C': [0.1, 1, 10],\n",
        "    'svm__gamma': [0.1, 1, 'auto'],\n",
        "    'svm__kernel': ['linear', 'rbf', 'poly']\n",
        "}\n",
        "\n",
        "grid_search = GridSearchCV(svm_pipeline, param_grid, cv=5, n_jobs=-1)\n",
        "grid_search.fit(X_train, y_train)\n",
        "\n",
        "# Predictions and evaluation\n",
        "y_pred = grid_search.predict(X_test)\n",
        "mse = mean_squared_error(y_test, y_pred)\n",
        "print(\"Mean Squared Error for Lexical Resource:\", mse)\n",
        "\n",
        "# Save the Lexical Resource Regression model\n",
        "joblib.dump(grid_search.best_estimator_, 'svm_model_lexical_resource.pkl')\n"
      ],
      "metadata": {
        "id": "4WWdWNkuPgDK"
      },
      "execution_count": null,
      "outputs": []
    }
  ]
}